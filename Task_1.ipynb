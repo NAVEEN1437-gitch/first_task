{
 "cells": [
  {
   "cell_type": "markdown",
   "metadata": {},
   "source": [
    "# 🧹 Data Cleaning Steps (Customer Personality Dataset)\n",
    "This notebook demonstrates **6 key preprocessing steps** performed on the dataset."
   ]
  },
  {
   "cell_type": "code",
   "execution_count": null,
   "metadata": {},
   "outputs": [],
   "source": [
    "import pandas as pd\n",
    "\n",
    "# Load dataset\n",
    "df = pd.read_csv(\"marketing_campaign_Task-1(dataset).csv\", sep=\"\\t\")\n",
    "df.head()"
   ]
  },
  {
   "cell_type": "code",
   "execution_count": null,
   "metadata": {},
   "outputs": [],
   "source": [
    "# Step 1️⃣ - Handle Missing Values\n",
    "print(\"Missing values before:\\n\", df.isnull().sum())\n",
    "\n",
    "# Fix Income missing values\n",
    "df['Income'] = pd.to_numeric(df['Income'], errors='coerce')\n",
    "df['Income'].fillna(df['Income'].median(), inplace=True)\n",
    "\n",
    "print(\"Missing values after:\\n\", df.isnull().sum())"
   ]
  },
  {
   "cell_type": "code",
   "execution_count": null,
   "metadata": {},
   "outputs": [],
   "source": [
    "# Step 2️⃣ - Remove Duplicates\n",
    "print(\"Rows before:\", len(df))\n",
    "df.drop_duplicates(inplace=True)\n",
    "print(\"Rows after:\", len(df))"
   ]
  },
  {
   "cell_type": "code",
   "execution_count": null,
   "metadata": {},
   "outputs": [],
   "source": [
    "# Step 3️⃣ - Standardize Text Values\n",
    "print(\"Before standardization:\")\n",
    "if 'Gender' in df.columns:\n",
    "    print(\"Gender:\", df['Gender'].unique())\n",
    "if 'Marital_Status' in df.columns:\n",
    "    print(\"Marital_Status:\", df['Marital_Status'].unique())\n",
    "\n",
    "if 'Gender' in df.columns:\n",
    "    df['Gender'] = df['Gender'].str.strip().str.upper()\n",
    "if 'Marital_Status' in df.columns:\n",
    "    df['Marital_Status'] = df['Marital_Status'].str.strip().str.upper()\n",
    "\n",
    "print(\"After standardization:\")\n",
    "if 'Gender' in df.columns:\n",
    "    print(\"Gender:\", df['Gender'].unique())\n",
    "if 'Marital_Status' in df.columns:\n",
    "    print(\"Marital_Status:\", df['Marital_Status'].unique())"
   ]
  },
  {
   "cell_type": "code",
   "execution_count": null,
   "metadata": {},
   "outputs": [],
   "source": [
    "# Step 4️⃣ - Convert Date Formats\n",
    "if 'Dt_Customer' in df.columns:\n",
    "    df['Dt_Customer'] = pd.to_datetime(df['Dt_Customer'], errors='coerce')\n",
    "    print(\"Dt_Customer type:\", df['Dt_Customer'].dtype)\n",
    "    print(\"Sample Dt_Customer values:\\n\", df['Dt_Customer'].head())"
   ]
  },
  {
   "cell_type": "code",
   "execution_count": null,
   "metadata": {},
   "outputs": [],
   "source": [
    "# Step 5️⃣ - Rename Column Headers\n",
    "print(\"Before renaming:\\n\", df.columns.tolist())\n",
    "df.columns = df.columns.str.lower().str.replace(\" \", \"_\")\n",
    "print(\"After renaming:\\n\", df.columns.tolist())"
   ]
  },
  {
   "cell_type": "code",
   "execution_count": null,
   "metadata": {},
   "outputs": [],
   "source": [
    "# Step 6️⃣ - Fix Data Types\n",
    "print(\"Before conversion:\\n\", df.dtypes)\n",
    "\n",
    "# year_birth → int\n",
    "if 'year_birth' in df.columns:\n",
    "    df['year_birth'] = pd.to_datetime(df['year_birth'], errors='coerce').dt.year\n",
    "    df['year_birth'] = df['year_birth'].astype('Int64')\n",
    "\n",
    "# income → int\n",
    "if 'income' in df.columns:\n",
    "    df['income'] = pd.to_numeric(df['income'], errors='coerce').astype('Int64')\n",
    "\n",
    "# dt_customer → keep datetime and add integer version\n",
    "if 'dt_customer' in df.columns:\n",
    "    df['dt_customer'] = pd.to_datetime(df['dt_customer'], errors='coerce')\n",
    "    df['dt_customer_int'] = df['dt_customer'].astype('int64')\n",
    "\n",
    "print(\"After conversion:\\n\", df.dtypes)\n",
    "print(\"\\nYear_Birth sample:\", df['year_birth'].head().tolist())\n",
    "print(\"Income sample:\", df['income'].head().tolist())\n",
    "if 'dt_customer_int' in df.columns:\n",
    "    print(\"Dt_Customer as int sample:\", df['dt_customer_int'].head().tolist())"
   ]
  },
  {
   "cell_type": "code",
   "execution_count": null,
   "metadata": {},
   "outputs": [],
   "source": [
    "# ✅ Final Summary\n",
    "print(\"Final dataset info:\")\n",
    "print(df.info())\n",
    "print(\"\\nMissing values after cleaning:\\n\", df.isnull().sum())\n",
    "df.head()"
   ]
  }
 ],
 "metadata": {
  "kernelspec": {
   "display_name": "Python 3",
   "language": "python",
   "name": "python3"
  },
  "language_info": {
   "codemirror_mode": {
    "name": "ipython",
    "version": 3
   },
   "file_extension": ".py",
   "mimetype": "text/x-python",
   "name": "python",
   "nbconvert_exporter": "python",
   "pygments_lexer": "ipython3",
   "version": "3.12"
  }
 },
 "nbformat": 4,
 "nbformat_minor": 5
}

