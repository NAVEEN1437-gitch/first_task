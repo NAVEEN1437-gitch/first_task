{
  "metadata": {
    "kernelspec": {
      "name": "python",
      "display_name": "Python (Pyodide)",
      "language": "python"
    },
    "language_info": {
      "codemirror_mode": {
        "name": "python",
        "version": 3
      },
      "file_extension": ".py",
      "mimetype": "text/x-python",
      "name": "python",
      "nbconvert_exporter": "python",
      "pygments_lexer": "ipython3",
      "version": "3.8"
    }
  },
  "nbformat_minor": 5,
  "nbformat": 4,
  "cells": [
    {
      "id": "b4cc8032-adc0-4169-be37-760c272bbe9e",
      "cell_type": "code",
      "source": "import pandas as pd\nimport numpy as np\n\nx = pd.read_csv('initial_marketing_campaign_Task-1.csv') \nprint(x.head())  \n",
      "metadata": {
        "trusted": true
      },
      "outputs": [
        {
          "name": "stdout",
          "output_type": "stream",
          "text": "  ID\\tYear_Birth\\tEducation\\tMarital_Status\\tIncome\\tKidhome\\tTeenhome\\tDt_Customer\\tRecency\\tMntWines\\tMntFruits\\tMntMeatProducts\\tMntFishProducts\\tMntSweetProducts\\tMntGoldProds\\tNumDealsPurchases\\tNumWebPurchases\\tNumCatalogPurchases\\tNumStorePurchases\\tNumWebVisitsMonth\\tAcceptedCmp3\\tAcceptedCmp4\\tAcceptedCmp5\\tAcceptedCmp1\\tAcceptedCmp2\\tComplain\\tZ_CostContact\\tZ_Revenue\\tResponse\n0  5524\\t1957\\tGraduation\\tSingle\\t58138\\t0\\t0\\t0...                                                                                                                                                                                                                                                                                                                                                  \n1  5524\\t1954\\tGraduation\\tSingle\\t46344\\t1\\t1\\t0...                                                                                                                                                                                                                                                                                                                                                  \n2  4141\\t1965\\tGraduation\\tTogether\\t71613\\t0\\t0\\...                                                                                                                                                                                                                                                                                                                                                  \n3  6182\\t1984\\tGraduation\\tTogether\\t26646\\t1\\t0\\...                                                                                                                                                                                                                                                                                                                                                  \n4  5324\\t1981\\tPhD\\tMarried\\t58293\\t1\\t0\\t19-01-2...                                                                                                                                                                                                                                                                                                                                                  \n"
        }
      ],
      "execution_count": 3
    },
    {
      "id": "53843a95-496f-432b-8a55-e5f72300b0a1",
      "cell_type": "code",
      "source": "df = pd.read_csv('initial_marketing_campaign_Task-1.csv', sep=\"\\\\t\",engine='python')\nprint(df)",
      "metadata": {
        "trusted": true
      },
      "outputs": [
        {
          "name": "stdout",
          "output_type": "stream",
          "text": "         \"ID  Year_Birth   Education Marital_Status   Income  Kidhome  \\\n0      \"5524        1957  Graduation         Single  58138.0        0   \n1      \"5524        1954  Graduation         Single  46344.0        1   \n2      \"4141        1965  Graduation       Together  71613.0        0   \n3      \"6182        1984  Graduation       Together  26646.0        1   \n4      \"5324        1981         PhD        Married  58293.0        1   \n...      ...         ...         ...            ...      ...      ...   \n2235  \"10870        1967  Graduation        Married  61223.0        0   \n2236   \"4001        1946         PhD       Together  64014.0        2   \n2237   \"7270        1981  Graduation       Divorced  56981.0        0   \n2238   \"8235        1956      Master       Together  69245.0        0   \n2239   \"9405        1954         PhD        Married  52869.0        1   \n\n      Teenhome Dt_Customer  Recency  MntWines  ...  NumWebVisitsMonth  \\\n0            0  04-09-2012       58       635  ...                  7   \n1            1  08-03-2014       38        11  ...                  5   \n2            0  21-08-2013       26       426  ...                  4   \n3            0  10-02-2014       26        11  ...                  6   \n4            0  19-01-2014       94       173  ...                  5   \n...        ...         ...      ...       ...  ...                ...   \n2235         1  13-06-2013       46       709  ...                  5   \n2236         1  10-06-2014       56       406  ...                  7   \n2237         0  25-01-2014       91       908  ...                  6   \n2238         1  24-01-2014        8       428  ...                  3   \n2239         1  15-10-2012       40        84  ...                  7   \n\n      AcceptedCmp3  AcceptedCmp4  AcceptedCmp5  AcceptedCmp1  AcceptedCmp2  \\\n0                0             0             0             0             0   \n1                0             0             0             0             0   \n2                0             0             0             0             0   \n3                0             0             0             0             0   \n4                0             0             0             0             0   \n...            ...           ...           ...           ...           ...   \n2235             0             0             0             0             0   \n2236             0             0             0             1             0   \n2237             0             1             0             0             0   \n2238             0             0             0             0             0   \n2239             0             0             0             0             0   \n\n      Complain  Z_CostContact  Z_Revenue  Response\"  \n0            0              3         11         1\"  \n1            0              3         11         0\"  \n2            0              3         11         0\"  \n3            0              3         11         0\"  \n4            0              3         11         0\"  \n...        ...            ...        ...        ...  \n2235         0              3         11         0\"  \n2236         0              3         11         0\"  \n2237         0              3         11         0\"  \n2238         0              3         11         0\"  \n2239         0              3         11         1\"  \n\n[2240 rows x 29 columns]\n"
        }
      ],
      "execution_count": 9
    },
    {
      "id": "a31e215a-57e8-456d-9f67-a40dc12c66a4",
      "cell_type": "markdown",
      "source": "#  Step-1 : Identify & handle missing values",
      "metadata": {}
    },
    {
      "id": "77d27492-4a90-45e6-9c6a-4f102b1b2031",
      "cell_type": "code",
      "source": "df.isnull().sum()",
      "metadata": {
        "trusted": true
      },
      "outputs": [
        {
          "execution_count": 10,
          "output_type": "execute_result",
          "data": {
            "text/plain": "\"ID                     0\nYear_Birth              0\nEducation               0\nMarital_Status          0\nIncome                 23\nKidhome                 0\nTeenhome                0\nDt_Customer             0\nRecency                 0\nMntWines                0\nMntFruits               0\nMntMeatProducts         0\nMntFishProducts         0\nMntSweetProducts        0\nMntGoldProds            0\nNumDealsPurchases       0\nNumWebPurchases         0\nNumCatalogPurchases     0\nNumStorePurchases       0\nNumWebVisitsMonth       0\nAcceptedCmp3            0\nAcceptedCmp4            0\nAcceptedCmp5            0\nAcceptedCmp1            0\nAcceptedCmp2            0\nComplain                0\nZ_CostContact           0\nZ_Revenue               0\nResponse\"               0\ndtype: int64"
          },
          "metadata": {}
        }
      ],
      "execution_count": 10
    },
    {
      "id": "eb75f2ef-1e88-49f5-8a05-c1e81d36fe19",
      "cell_type": "code",
      "source": "df['Income'] = df['Income'].fillna(df['Income'].median())\ndf.isnull().sum()",
      "metadata": {
        "trusted": true
      },
      "outputs": [
        {
          "execution_count": 11,
          "output_type": "execute_result",
          "data": {
            "text/plain": "\"ID                    0\nYear_Birth             0\nEducation              0\nMarital_Status         0\nIncome                 0\nKidhome                0\nTeenhome               0\nDt_Customer            0\nRecency                0\nMntWines               0\nMntFruits              0\nMntMeatProducts        0\nMntFishProducts        0\nMntSweetProducts       0\nMntGoldProds           0\nNumDealsPurchases      0\nNumWebPurchases        0\nNumCatalogPurchases    0\nNumStorePurchases      0\nNumWebVisitsMonth      0\nAcceptedCmp3           0\nAcceptedCmp4           0\nAcceptedCmp5           0\nAcceptedCmp1           0\nAcceptedCmp2           0\nComplain               0\nZ_CostContact          0\nZ_Revenue              0\nResponse\"              0\ndtype: int64"
          },
          "metadata": {}
        }
      ],
      "execution_count": 11
    },
    {
      "id": "b90c18a6-b5bf-4bb4-91aa-5c187242a819",
      "cell_type": "markdown",
      "source": "# Step-2 : Remove duplicate rows",
      "metadata": {}
    },
    {
      "id": "30349fd9-2a46-4ef7-8d11-4a6fc512b715",
      "cell_type": "code",
      "source": "# Total duplicate rows (excluding the first occurrence)\nduplicates_before = df.duplicated().sum()\nprint(\"Duplicate rows before:\", duplicates_before)\n",
      "metadata": {
        "trusted": true
      },
      "outputs": [
        {
          "name": "stdout",
          "output_type": "stream",
          "text": "Duplicate rows before: 8\n"
        }
      ],
      "execution_count": 7
    },
    {
      "id": "a97e85c0-a1cd-461c-85b2-be10314d54b0",
      "cell_type": "code",
      "source": "df = df.drop_duplicates()\nduplicates_after = df.duplicated().sum()\nprint(\"Duplicate rows after:\", duplicates_after)\n",
      "metadata": {
        "trusted": true
      },
      "outputs": [
        {
          "name": "stdout",
          "output_type": "stream",
          "text": "Duplicate rows after: 0\n"
        }
      ],
      "execution_count": 12
    },
    {
      "id": "85ed353e-f7f7-4c2d-beb2-56748228ded3",
      "cell_type": "markdown",
      "source": "# Step-3 : Standardize text values",
      "metadata": {}
    },
    {
      "id": "13f2f116-3dd2-47bf-8881-15d2615788c0",
      "cell_type": "code",
      "source": "df['Marital_Status'] = df['Marital_Status'].str.upper().str.strip()\ndf.head()",
      "metadata": {
        "trusted": true
      },
      "outputs": [
        {
          "execution_count": 18,
          "output_type": "execute_result",
          "data": {
            "text/plain": "     \"ID  Year_Birth   Education Marital_Status   Income  Kidhome  Teenhome  \\\n0  \"5524        1957  Graduation         SINGLE  58138.0        0         0   \n1  \"5524        1954  Graduation         SINGLE  46344.0        1         1   \n2  \"4141        1965  Graduation       TOGETHER  71613.0        0         0   \n3  \"6182        1984  Graduation       TOGETHER  26646.0        1         0   \n4  \"5324        1981         PhD        MARRIED  58293.0        1         0   \n\n  Dt_Customer  Recency  MntWines  ...  NumWebVisitsMonth  AcceptedCmp3  \\\n0  04-09-2012       58       635  ...                  7             0   \n1  08-03-2014       38        11  ...                  5             0   \n2  21-08-2013       26       426  ...                  4             0   \n3  10-02-2014       26        11  ...                  6             0   \n4  19-01-2014       94       173  ...                  5             0   \n\n   AcceptedCmp4  AcceptedCmp5  AcceptedCmp1  AcceptedCmp2  Complain  \\\n0             0             0             0             0         0   \n1             0             0             0             0         0   \n2             0             0             0             0         0   \n3             0             0             0             0         0   \n4             0             0             0             0         0   \n\n   Z_CostContact  Z_Revenue  Response\"  \n0              3         11         1\"  \n1              3         11         0\"  \n2              3         11         0\"  \n3              3         11         0\"  \n4              3         11         0\"  \n\n[5 rows x 29 columns]",
            "text/html": "<div>\n<style scoped>\n    .dataframe tbody tr th:only-of-type {\n        vertical-align: middle;\n    }\n\n    .dataframe tbody tr th {\n        vertical-align: top;\n    }\n\n    .dataframe thead th {\n        text-align: right;\n    }\n</style>\n<table border=\"1\" class=\"dataframe\">\n  <thead>\n    <tr style=\"text-align: right;\">\n      <th></th>\n      <th>\"ID</th>\n      <th>Year_Birth</th>\n      <th>Education</th>\n      <th>Marital_Status</th>\n      <th>Income</th>\n      <th>Kidhome</th>\n      <th>Teenhome</th>\n      <th>Dt_Customer</th>\n      <th>Recency</th>\n      <th>MntWines</th>\n      <th>...</th>\n      <th>NumWebVisitsMonth</th>\n      <th>AcceptedCmp3</th>\n      <th>AcceptedCmp4</th>\n      <th>AcceptedCmp5</th>\n      <th>AcceptedCmp1</th>\n      <th>AcceptedCmp2</th>\n      <th>Complain</th>\n      <th>Z_CostContact</th>\n      <th>Z_Revenue</th>\n      <th>Response\"</th>\n    </tr>\n  </thead>\n  <tbody>\n    <tr>\n      <th>0</th>\n      <td>\"5524</td>\n      <td>1957</td>\n      <td>Graduation</td>\n      <td>SINGLE</td>\n      <td>58138.0</td>\n      <td>0</td>\n      <td>0</td>\n      <td>04-09-2012</td>\n      <td>58</td>\n      <td>635</td>\n      <td>...</td>\n      <td>7</td>\n      <td>0</td>\n      <td>0</td>\n      <td>0</td>\n      <td>0</td>\n      <td>0</td>\n      <td>0</td>\n      <td>3</td>\n      <td>11</td>\n      <td>1\"</td>\n    </tr>\n    <tr>\n      <th>1</th>\n      <td>\"5524</td>\n      <td>1954</td>\n      <td>Graduation</td>\n      <td>SINGLE</td>\n      <td>46344.0</td>\n      <td>1</td>\n      <td>1</td>\n      <td>08-03-2014</td>\n      <td>38</td>\n      <td>11</td>\n      <td>...</td>\n      <td>5</td>\n      <td>0</td>\n      <td>0</td>\n      <td>0</td>\n      <td>0</td>\n      <td>0</td>\n      <td>0</td>\n      <td>3</td>\n      <td>11</td>\n      <td>0\"</td>\n    </tr>\n    <tr>\n      <th>2</th>\n      <td>\"4141</td>\n      <td>1965</td>\n      <td>Graduation</td>\n      <td>TOGETHER</td>\n      <td>71613.0</td>\n      <td>0</td>\n      <td>0</td>\n      <td>21-08-2013</td>\n      <td>26</td>\n      <td>426</td>\n      <td>...</td>\n      <td>4</td>\n      <td>0</td>\n      <td>0</td>\n      <td>0</td>\n      <td>0</td>\n      <td>0</td>\n      <td>0</td>\n      <td>3</td>\n      <td>11</td>\n      <td>0\"</td>\n    </tr>\n    <tr>\n      <th>3</th>\n      <td>\"6182</td>\n      <td>1984</td>\n      <td>Graduation</td>\n      <td>TOGETHER</td>\n      <td>26646.0</td>\n      <td>1</td>\n      <td>0</td>\n      <td>10-02-2014</td>\n      <td>26</td>\n      <td>11</td>\n      <td>...</td>\n      <td>6</td>\n      <td>0</td>\n      <td>0</td>\n      <td>0</td>\n      <td>0</td>\n      <td>0</td>\n      <td>0</td>\n      <td>3</td>\n      <td>11</td>\n      <td>0\"</td>\n    </tr>\n    <tr>\n      <th>4</th>\n      <td>\"5324</td>\n      <td>1981</td>\n      <td>PhD</td>\n      <td>MARRIED</td>\n      <td>58293.0</td>\n      <td>1</td>\n      <td>0</td>\n      <td>19-01-2014</td>\n      <td>94</td>\n      <td>173</td>\n      <td>...</td>\n      <td>5</td>\n      <td>0</td>\n      <td>0</td>\n      <td>0</td>\n      <td>0</td>\n      <td>0</td>\n      <td>0</td>\n      <td>3</td>\n      <td>11</td>\n      <td>0\"</td>\n    </tr>\n  </tbody>\n</table>\n<p>5 rows × 29 columns</p>\n</div>"
          },
          "metadata": {}
        }
      ],
      "execution_count": 18
    },
    {
      "id": "4f86e3f0-635b-4dc0-95a8-b6ff7da04d23",
      "cell_type": "markdown",
      "source": "# Step-4 : Convert date formats",
      "metadata": {}
    },
    {
      "id": "e9e81071-be35-4716-85b8-411076879638",
      "cell_type": "code",
      "source": "df.info()",
      "metadata": {
        "trusted": true
      },
      "outputs": [
        {
          "name": "stdout",
          "output_type": "stream",
          "text": "<class 'pandas.core.frame.DataFrame'>\nIndex: 2232 entries, 0 to 2239\nData columns (total 29 columns):\n #   Column               Non-Null Count  Dtype  \n---  ------               --------------  -----  \n 0   \"ID                  2232 non-null   object \n 1   Year_Birth           2232 non-null   int64  \n 2   Education            2232 non-null   object \n 3   Marital_Status       2232 non-null   object \n 4   Income               2232 non-null   float64\n 5   Kidhome              2232 non-null   int64  \n 6   Teenhome             2232 non-null   int64  \n 7   Dt_Customer          2232 non-null   object \n 8   Recency              2232 non-null   int64  \n 9   MntWines             2232 non-null   int64  \n 10  MntFruits            2232 non-null   int64  \n 11  MntMeatProducts      2232 non-null   int64  \n 12  MntFishProducts      2232 non-null   int64  \n 13  MntSweetProducts     2232 non-null   int64  \n 14  MntGoldProds         2232 non-null   int64  \n 15  NumDealsPurchases    2232 non-null   int64  \n 16  NumWebPurchases      2232 non-null   int64  \n 17  NumCatalogPurchases  2232 non-null   int64  \n 18  NumStorePurchases    2232 non-null   int64  \n 19  NumWebVisitsMonth    2232 non-null   int64  \n 20  AcceptedCmp3         2232 non-null   int64  \n 21  AcceptedCmp4         2232 non-null   int64  \n 22  AcceptedCmp5         2232 non-null   int64  \n 23  AcceptedCmp1         2232 non-null   int64  \n 24  AcceptedCmp2         2232 non-null   int64  \n 25  Complain             2232 non-null   int64  \n 26  Z_CostContact        2232 non-null   int64  \n 27  Z_Revenue            2232 non-null   int64  \n 28  Response\"            2232 non-null   object \ndtypes: float64(1), int64(23), object(5)\nmemory usage: 479.5+ KB\n"
        }
      ],
      "execution_count": 19
    },
    {
      "id": "b78e9d46-ad8a-497a-8d1a-b0cb8effbdf6",
      "cell_type": "code",
      "source": "df['Dt_Customer'] = pd.to_datetime(df['Dt_Customer'], format='%d-%m-%Y')\ndf.info()",
      "metadata": {
        "trusted": true
      },
      "outputs": [
        {
          "name": "stdout",
          "output_type": "stream",
          "text": "<class 'pandas.core.frame.DataFrame'>\nRangeIndex: 2240 entries, 0 to 2239\nData columns (total 29 columns):\n #   Column               Non-Null Count  Dtype         \n---  ------               --------------  -----         \n 0   \"ID                  2240 non-null   object        \n 1   Year_Birth           2240 non-null   int64         \n 2   Education            2240 non-null   object        \n 3   Marital_Status       2240 non-null   object        \n 4   Income               2240 non-null   float64       \n 5   Kidhome              2240 non-null   int64         \n 6   Teenhome             2240 non-null   int64         \n 7   Dt_Customer          2240 non-null   datetime64[ns]\n 8   Recency              2240 non-null   int64         \n 9   MntWines             2240 non-null   int64         \n 10  MntFruits            2240 non-null   int64         \n 11  MntMeatProducts      2240 non-null   int64         \n 12  MntFishProducts      2240 non-null   int64         \n 13  MntSweetProducts     2240 non-null   int64         \n 14  MntGoldProds         2240 non-null   int64         \n 15  NumDealsPurchases    2240 non-null   int64         \n 16  NumWebPurchases      2240 non-null   int64         \n 17  NumCatalogPurchases  2240 non-null   int64         \n 18  NumStorePurchases    2240 non-null   int64         \n 19  NumWebVisitsMonth    2240 non-null   int64         \n 20  AcceptedCmp3         2240 non-null   int64         \n 21  AcceptedCmp4         2240 non-null   int64         \n 22  AcceptedCmp5         2240 non-null   int64         \n 23  AcceptedCmp1         2240 non-null   int64         \n 24  AcceptedCmp2         2240 non-null   int64         \n 25  Complain             2240 non-null   int64         \n 26  Z_CostContact        2240 non-null   int64         \n 27  Z_Revenue            2240 non-null   int64         \n 28  Response\"            2240 non-null   object        \ndtypes: datetime64[ns](1), float64(1), int64(23), object(4)\nmemory usage: 472.6+ KB\n"
        }
      ],
      "execution_count": 8
    },
    {
      "id": "e9ed7b54-64e6-4a44-a34d-26eb448d60b9",
      "cell_type": "markdown",
      "source": "# Step-5 : Rename column headers",
      "metadata": {}
    },
    {
      "id": "163d95b4-091c-421a-89b4-a70f39a9d180",
      "cell_type": "code",
      "source": "df.head(2)",
      "metadata": {
        "trusted": true
      },
      "outputs": [
        {
          "execution_count": 29,
          "output_type": "execute_result",
          "data": {
            "text/plain": "     \"id  year_birth   education marital_status   profit  kidhome  teenhome  \\\n0  \"5524        1957  Graduation         SINGLE  58138.0        0         0   \n1  \"5524        1954  Graduation         SINGLE  46344.0        1         1   \n\n  dt_customer  recency  mntwines  ...  numwebvisitsmonth  acceptedcmp3  \\\n0  04-09-2012       58       635  ...                  7             0   \n1  08-03-2014       38        11  ...                  5             0   \n\n   acceptedcmp4  acceptedcmp5  acceptedcmp1  acceptedcmp2  complain  \\\n0             0             0             0             0         0   \n1             0             0             0             0         0   \n\n   z_costcontact  z_revenue  response\"  \n0              3         11         1\"  \n1              3         11         0\"  \n\n[2 rows x 29 columns]",
            "text/html": "<div>\n<style scoped>\n    .dataframe tbody tr th:only-of-type {\n        vertical-align: middle;\n    }\n\n    .dataframe tbody tr th {\n        vertical-align: top;\n    }\n\n    .dataframe thead th {\n        text-align: right;\n    }\n</style>\n<table border=\"1\" class=\"dataframe\">\n  <thead>\n    <tr style=\"text-align: right;\">\n      <th></th>\n      <th>\"id</th>\n      <th>year_birth</th>\n      <th>education</th>\n      <th>marital_status</th>\n      <th>profit</th>\n      <th>kidhome</th>\n      <th>teenhome</th>\n      <th>dt_customer</th>\n      <th>recency</th>\n      <th>mntwines</th>\n      <th>...</th>\n      <th>numwebvisitsmonth</th>\n      <th>acceptedcmp3</th>\n      <th>acceptedcmp4</th>\n      <th>acceptedcmp5</th>\n      <th>acceptedcmp1</th>\n      <th>acceptedcmp2</th>\n      <th>complain</th>\n      <th>z_costcontact</th>\n      <th>z_revenue</th>\n      <th>response\"</th>\n    </tr>\n  </thead>\n  <tbody>\n    <tr>\n      <th>0</th>\n      <td>\"5524</td>\n      <td>1957</td>\n      <td>Graduation</td>\n      <td>SINGLE</td>\n      <td>58138.0</td>\n      <td>0</td>\n      <td>0</td>\n      <td>04-09-2012</td>\n      <td>58</td>\n      <td>635</td>\n      <td>...</td>\n      <td>7</td>\n      <td>0</td>\n      <td>0</td>\n      <td>0</td>\n      <td>0</td>\n      <td>0</td>\n      <td>0</td>\n      <td>3</td>\n      <td>11</td>\n      <td>1\"</td>\n    </tr>\n    <tr>\n      <th>1</th>\n      <td>\"5524</td>\n      <td>1954</td>\n      <td>Graduation</td>\n      <td>SINGLE</td>\n      <td>46344.0</td>\n      <td>1</td>\n      <td>1</td>\n      <td>08-03-2014</td>\n      <td>38</td>\n      <td>11</td>\n      <td>...</td>\n      <td>5</td>\n      <td>0</td>\n      <td>0</td>\n      <td>0</td>\n      <td>0</td>\n      <td>0</td>\n      <td>0</td>\n      <td>3</td>\n      <td>11</td>\n      <td>0\"</td>\n    </tr>\n  </tbody>\n</table>\n<p>2 rows × 29 columns</p>\n</div>"
          },
          "metadata": {}
        }
      ],
      "execution_count": 29
    },
    {
      "id": "a711183e-8453-49f7-aa81-9c9b0040013c",
      "cell_type": "code",
      "source": "df.rename(columns={'PROFIT': 'Income'}, inplace=True)\ndf.head(2)",
      "metadata": {
        "trusted": true
      },
      "outputs": [
        {
          "execution_count": 33,
          "output_type": "execute_result",
          "data": {
            "text/plain": "     \"id  year_birth   education marital_status   Income  kidhome  teenhome  \\\n0  \"5524        1957  Graduation         SINGLE  58138.0        0         0   \n1  \"5524        1954  Graduation         SINGLE  46344.0        1         1   \n\n  dt_customer  recency  mntwines  ...  numwebvisitsmonth  acceptedcmp3  \\\n0  04-09-2012       58       635  ...                  7             0   \n1  08-03-2014       38        11  ...                  5             0   \n\n   acceptedcmp4  acceptedcmp5  acceptedcmp1  acceptedcmp2  complain  \\\n0             0             0             0             0         0   \n1             0             0             0             0         0   \n\n   z_costcontact  z_revenue  response\"  \n0              3         11         1\"  \n1              3         11         0\"  \n\n[2 rows x 29 columns]",
            "text/html": "<div>\n<style scoped>\n    .dataframe tbody tr th:only-of-type {\n        vertical-align: middle;\n    }\n\n    .dataframe tbody tr th {\n        vertical-align: top;\n    }\n\n    .dataframe thead th {\n        text-align: right;\n    }\n</style>\n<table border=\"1\" class=\"dataframe\">\n  <thead>\n    <tr style=\"text-align: right;\">\n      <th></th>\n      <th>\"id</th>\n      <th>year_birth</th>\n      <th>education</th>\n      <th>marital_status</th>\n      <th>Income</th>\n      <th>kidhome</th>\n      <th>teenhome</th>\n      <th>dt_customer</th>\n      <th>recency</th>\n      <th>mntwines</th>\n      <th>...</th>\n      <th>numwebvisitsmonth</th>\n      <th>acceptedcmp3</th>\n      <th>acceptedcmp4</th>\n      <th>acceptedcmp5</th>\n      <th>acceptedcmp1</th>\n      <th>acceptedcmp2</th>\n      <th>complain</th>\n      <th>z_costcontact</th>\n      <th>z_revenue</th>\n      <th>response\"</th>\n    </tr>\n  </thead>\n  <tbody>\n    <tr>\n      <th>0</th>\n      <td>\"5524</td>\n      <td>1957</td>\n      <td>Graduation</td>\n      <td>SINGLE</td>\n      <td>58138.0</td>\n      <td>0</td>\n      <td>0</td>\n      <td>04-09-2012</td>\n      <td>58</td>\n      <td>635</td>\n      <td>...</td>\n      <td>7</td>\n      <td>0</td>\n      <td>0</td>\n      <td>0</td>\n      <td>0</td>\n      <td>0</td>\n      <td>0</td>\n      <td>3</td>\n      <td>11</td>\n      <td>1\"</td>\n    </tr>\n    <tr>\n      <th>1</th>\n      <td>\"5524</td>\n      <td>1954</td>\n      <td>Graduation</td>\n      <td>SINGLE</td>\n      <td>46344.0</td>\n      <td>1</td>\n      <td>1</td>\n      <td>08-03-2014</td>\n      <td>38</td>\n      <td>11</td>\n      <td>...</td>\n      <td>5</td>\n      <td>0</td>\n      <td>0</td>\n      <td>0</td>\n      <td>0</td>\n      <td>0</td>\n      <td>0</td>\n      <td>3</td>\n      <td>11</td>\n      <td>0\"</td>\n    </tr>\n  </tbody>\n</table>\n<p>2 rows × 29 columns</p>\n</div>"
          },
          "metadata": {}
        }
      ],
      "execution_count": 33
    },
    {
      "id": "a5cd529b-d79d-4868-8543-11481030d4df",
      "cell_type": "markdown",
      "source": "# Step-6 : Check & fix data types",
      "metadata": {}
    },
    {
      "id": "d81dc872-0083-4826-8a48-d064de9aadc5",
      "cell_type": "code",
      "source": "\nprint(df.dtypes)\n",
      "metadata": {
        "trusted": true
      },
      "outputs": [
        {
          "name": "stdout",
          "output_type": "stream",
          "text": "\"id                            object\nyear_birth             datetime64[ns]\neducation                      object\nmarital_status                 object\nIncome                        float64\nkidhome                         int64\nteenhome                        int64\ndt_customer                    object\nrecency                         int64\nmntwines                        int64\nmntfruits                       int64\nmntmeatproducts                 int64\nmntfishproducts                 int64\nmntsweetproducts                int64\nmntgoldprods                    int64\nnumdealspurchases               int64\nnumwebpurchases                 int64\nnumcatalogpurchases             int64\nnumstorepurchases               int64\nnumwebvisitsmonth               int64\nacceptedcmp3                    int64\nacceptedcmp4                    int64\nacceptedcmp5                    int64\nacceptedcmp1                    int64\nacceptedcmp2                    int64\ncomplain                        int64\nz_costcontact                   int64\nz_revenue                       int64\nresponse\"                      object\ndtype: object\n"
        }
      ],
      "execution_count": 52
    },
    {
      "id": "724d28f1-9351-4a9b-8ba3-dd6b69846b0a",
      "cell_type": "code",
      "source": "df['Income'] = pd.to_numeric(df['Income'], errors='coerce')\ndf['Income'] = df['Income'].astype('Int64')\ndf.info()",
      "metadata": {
        "trusted": true
      },
      "outputs": [
        {
          "name": "stdout",
          "output_type": "stream",
          "text": "<class 'pandas.core.frame.DataFrame'>\nIndex: 2232 entries, 0 to 2239\nData columns (total 29 columns):\n #   Column               Non-Null Count  Dtype \n---  ------               --------------  ----- \n 0   \"id                  2232 non-null   object\n 1   year_birth           0 non-null      object\n 2   education            2232 non-null   object\n 3   marital_status       2232 non-null   object\n 4   Income               2232 non-null   Int64 \n 5   kidhome              2232 non-null   int64 \n 6   teenhome             2232 non-null   int64 \n 7   dt_customer          2232 non-null   object\n 8   recency              2232 non-null   int64 \n 9   mntwines             2232 non-null   int64 \n 10  mntfruits            2232 non-null   int64 \n 11  mntmeatproducts      2232 non-null   int64 \n 12  mntfishproducts      2232 non-null   int64 \n 13  mntsweetproducts     2232 non-null   int64 \n 14  mntgoldprods         2232 non-null   int64 \n 15  numdealspurchases    2232 non-null   int64 \n 16  numwebpurchases      2232 non-null   int64 \n 17  numcatalogpurchases  2232 non-null   int64 \n 18  numstorepurchases    2232 non-null   int64 \n 19  numwebvisitsmonth    2232 non-null   int64 \n 20  acceptedcmp3         2232 non-null   int64 \n 21  acceptedcmp4         2232 non-null   int64 \n 22  acceptedcmp5         2232 non-null   int64 \n 23  acceptedcmp1         2232 non-null   int64 \n 24  acceptedcmp2         2232 non-null   int64 \n 25  complain             2232 non-null   int64 \n 26  z_costcontact        2232 non-null   int64 \n 27  z_revenue            2232 non-null   int64 \n 28  response\"            2232 non-null   object\ndtypes: Int64(1), int64(22), object(6)\nmemory usage: 473.0+ KB\n"
        }
      ],
      "execution_count": 82
    },
    {
      "id": "c0449034-4925-4783-aa72-8a68fe7e1e20",
      "cell_type": "code",
      "source": "",
      "metadata": {
        "trusted": true
      },
      "outputs": [],
      "execution_count": null
    }
  ]
}